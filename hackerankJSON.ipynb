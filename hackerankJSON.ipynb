{
 "cells": [
  {
   "cell_type": "code",
   "execution_count": 3,
   "metadata": {},
   "outputs": [],
   "source": [
    "import requests\n",
    "import json\n",
    "from pprint import pp"
   ]
  },
  {
   "cell_type": "code",
   "execution_count": 4,
   "metadata": {},
   "outputs": [
    {
     "name": "stdout",
     "output_type": "stream",
     "text": [
      "{'count': 82, 'next': 'https://swapi.dev/api/people/?page=2&page+=+1', 'previous': None, 'results': [{'name': 'Luke Skywalker', 'height': '172', 'mass': '77', 'hair_color': 'blond', 'skin_color': 'fair', 'eye_color': 'blue', 'birth_year': '19BBY', 'gender': 'male', 'homeworld': 'https://swapi.dev/api/planets/1/', 'films': ['https://swapi.dev/api/films/1/', 'https://swapi.dev/api/films/2/', 'https://swapi.dev/api/films/3/', 'https://swapi.dev/api/films/6/'], 'species': [], 'vehicles': ['https://swapi.dev/api/vehicles/14/', 'https://swapi.dev/api/vehicles/30/'], 'starships': ['https://swapi.dev/api/starships/12/', 'https://swapi.dev/api/starships/22/'], 'created': '2014-12-09T13:50:51.644000Z', 'edited': '2014-12-20T21:17:56.891000Z', 'url': 'https://swapi.dev/api/people/1/'}, {'name': 'C-3PO', 'height': '167', 'mass': '75', 'hair_color': 'n/a', 'skin_color': 'gold', 'eye_color': 'yellow', 'birth_year': '112BBY', 'gender': 'n/a', 'homeworld': 'https://swapi.dev/api/planets/1/', 'films': ['https://swapi.dev/api/films/1/', 'https://swapi.dev/api/films/2/', 'https://swapi.dev/api/films/3/', 'https://swapi.dev/api/films/4/', 'https://swapi.dev/api/films/5/', 'https://swapi.dev/api/films/6/'], 'species': ['https://swapi.dev/api/species/2/'], 'vehicles': [], 'starships': [], 'created': '2014-12-10T15:10:51.357000Z', 'edited': '2014-12-20T21:17:50.309000Z', 'url': 'https://swapi.dev/api/people/2/'}, {'name': 'R2-D2', 'height': '96', 'mass': '32', 'hair_color': 'n/a', 'skin_color': 'white, blue', 'eye_color': 'red', 'birth_year': '33BBY', 'gender': 'n/a', 'homeworld': 'https://swapi.dev/api/planets/8/', 'films': ['https://swapi.dev/api/films/1/', 'https://swapi.dev/api/films/2/', 'https://swapi.dev/api/films/3/', 'https://swapi.dev/api/films/4/', 'https://swapi.dev/api/films/5/', 'https://swapi.dev/api/films/6/'], 'species': ['https://swapi.dev/api/species/2/'], 'vehicles': [], 'starships': [], 'created': '2014-12-10T15:11:50.376000Z', 'edited': '2014-12-20T21:17:50.311000Z', 'url': 'https://swapi.dev/api/people/3/'}, {'name': 'Darth Vader', 'height': '202', 'mass': '136', 'hair_color': 'none', 'skin_color': 'white', 'eye_color': 'yellow', 'birth_year': '41.9BBY', 'gender': 'male', 'homeworld': 'https://swapi.dev/api/planets/1/', 'films': ['https://swapi.dev/api/films/1/', 'https://swapi.dev/api/films/2/', 'https://swapi.dev/api/films/3/', 'https://swapi.dev/api/films/6/'], 'species': [], 'vehicles': [], 'starships': ['https://swapi.dev/api/starships/13/'], 'created': '2014-12-10T15:18:20.704000Z', 'edited': '2014-12-20T21:17:50.313000Z', 'url': 'https://swapi.dev/api/people/4/'}, {'name': 'Leia Organa', 'height': '150', 'mass': '49', 'hair_color': 'brown', 'skin_color': 'light', 'eye_color': 'brown', 'birth_year': '19BBY', 'gender': 'female', 'homeworld': 'https://swapi.dev/api/planets/2/', 'films': ['https://swapi.dev/api/films/1/', 'https://swapi.dev/api/films/2/', 'https://swapi.dev/api/films/3/', 'https://swapi.dev/api/films/6/'], 'species': [], 'vehicles': ['https://swapi.dev/api/vehicles/30/'], 'starships': [], 'created': '2014-12-10T15:20:09.791000Z', 'edited': '2014-12-20T21:17:50.315000Z', 'url': 'https://swapi.dev/api/people/5/'}, {'name': 'Owen Lars', 'height': '178', 'mass': '120', 'hair_color': 'brown, grey', 'skin_color': 'light', 'eye_color': 'blue', 'birth_year': '52BBY', 'gender': 'male', 'homeworld': 'https://swapi.dev/api/planets/1/', 'films': ['https://swapi.dev/api/films/1/', 'https://swapi.dev/api/films/5/', 'https://swapi.dev/api/films/6/'], 'species': [], 'vehicles': [], 'starships': [], 'created': '2014-12-10T15:52:14.024000Z', 'edited': '2014-12-20T21:17:50.317000Z', 'url': 'https://swapi.dev/api/people/6/'}, {'name': 'Beru Whitesun lars', 'height': '165', 'mass': '75', 'hair_color': 'brown', 'skin_color': 'light', 'eye_color': 'blue', 'birth_year': '47BBY', 'gender': 'female', 'homeworld': 'https://swapi.dev/api/planets/1/', 'films': ['https://swapi.dev/api/films/1/', 'https://swapi.dev/api/films/5/', 'https://swapi.dev/api/films/6/'], 'species': [], 'vehicles': [], 'starships': [], 'created': '2014-12-10T15:53:41.121000Z', 'edited': '2014-12-20T21:17:50.319000Z', 'url': 'https://swapi.dev/api/people/7/'}, {'name': 'R5-D4', 'height': '97', 'mass': '32', 'hair_color': 'n/a', 'skin_color': 'white, red', 'eye_color': 'red', 'birth_year': 'unknown', 'gender': 'n/a', 'homeworld': 'https://swapi.dev/api/planets/1/', 'films': ['https://swapi.dev/api/films/1/'], 'species': ['https://swapi.dev/api/species/2/'], 'vehicles': [], 'starships': [], 'created': '2014-12-10T15:57:50.959000Z', 'edited': '2014-12-20T21:17:50.321000Z', 'url': 'https://swapi.dev/api/people/8/'}, {'name': 'Biggs Darklighter', 'height': '183', 'mass': '84', 'hair_color': 'black', 'skin_color': 'light', 'eye_color': 'brown', 'birth_year': '24BBY', 'gender': 'male', 'homeworld': 'https://swapi.dev/api/planets/1/', 'films': ['https://swapi.dev/api/films/1/'], 'species': [], 'vehicles': [], 'starships': ['https://swapi.dev/api/starships/12/'], 'created': '2014-12-10T15:59:50.509000Z', 'edited': '2014-12-20T21:17:50.323000Z', 'url': 'https://swapi.dev/api/people/9/'}, {'name': 'Obi-Wan Kenobi', 'height': '182', 'mass': '77', 'hair_color': 'auburn, white', 'skin_color': 'fair', 'eye_color': 'blue-gray', 'birth_year': '57BBY', 'gender': 'male', 'homeworld': 'https://swapi.dev/api/planets/20/', 'films': ['https://swapi.dev/api/films/1/', 'https://swapi.dev/api/films/2/', 'https://swapi.dev/api/films/3/', 'https://swapi.dev/api/films/4/', 'https://swapi.dev/api/films/5/', 'https://swapi.dev/api/films/6/'], 'species': [], 'vehicles': ['https://swapi.dev/api/vehicles/38/'], 'starships': ['https://swapi.dev/api/starships/48/', 'https://swapi.dev/api/starships/59/', 'https://swapi.dev/api/starships/64/', 'https://swapi.dev/api/starships/65/', 'https://swapi.dev/api/starships/74/'], 'created': '2014-12-10T16:16:29.192000Z', 'edited': '2014-12-20T21:17:50.325000Z', 'url': 'https://swapi.dev/api/people/10/'}]}\n"
     ]
    }
   ],
   "source": [
    "url = 'https://swapi.dev/api/people/?page = 1'\n",
    "response1 = requests.get(url)\n",
    "r = response1.json()\n",
    "print(r)\n"
   ]
  },
  {
   "cell_type": "code",
   "execution_count": 5,
   "metadata": {},
   "outputs": [
    {
     "name": "stdout",
     "output_type": "stream",
     "text": [
      "1\n",
      "[{'count': 82,\n",
      "  'next': 'https://swapi.dev/api/people/?page=2',\n",
      "  'previous': None,\n",
      "  'results': [{'name': 'Luke Skywalker',\n",
      "               'height': '172',\n",
      "               'mass': '77',\n",
      "               'hair_color': 'blond',\n",
      "               'skin_color': 'fair',\n",
      "               'eye_color': 'blue',\n",
      "               'birth_year': '19BBY',\n",
      "               'gender': 'male',\n",
      "               'homeworld': 'https://swapi.dev/api/planets/1/',\n",
      "               'films': ['https://swapi.dev/api/films/1/',\n",
      "                         'https://swapi.dev/api/films/2/',\n",
      "                         'https://swapi.dev/api/films/3/',\n",
      "                         'https://swapi.dev/api/films/6/'],\n",
      "               'species': [],\n",
      "               'vehicles': ['https://swapi.dev/api/vehicles/14/',\n",
      "                            'https://swapi.dev/api/vehicles/30/'],\n",
      "               'starships': ['https://swapi.dev/api/starships/12/',\n",
      "                             'https://swapi.dev/api/starships/22/'],\n",
      "               'created': '2014-12-09T13:50:51.644000Z',\n",
      "               'edited': '2014-12-20T21:17:56.891000Z',\n",
      "               'url': 'https://swapi.dev/api/people/1/'},\n",
      "              {'name': 'C-3PO',\n",
      "               'height': '167',\n",
      "               'mass': '75',\n",
      "               'hair_color': 'n/a',\n",
      "               'skin_color': 'gold',\n",
      "               'eye_color': 'yellow',\n",
      "               'birth_year': '112BBY',\n",
      "               'gender': 'n/a',\n",
      "               'homeworld': 'https://swapi.dev/api/planets/1/',\n",
      "               'films': ['https://swapi.dev/api/films/1/',\n",
      "                         'https://swapi.dev/api/films/2/',\n",
      "                         'https://swapi.dev/api/films/3/',\n",
      "                         'https://swapi.dev/api/films/4/',\n",
      "                         'https://swapi.dev/api/films/5/',\n",
      "                         'https://swapi.dev/api/films/6/'],\n",
      "               'species': ['https://swapi.dev/api/species/2/'],\n",
      "               'vehicles': [],\n",
      "               'starships': [],\n",
      "               'created': '2014-12-10T15:10:51.357000Z',\n",
      "               'edited': '2014-12-20T21:17:50.309000Z',\n",
      "               'url': 'https://swapi.dev/api/people/2/'},\n",
      "              {'name': 'R2-D2',\n",
      "               'height': '96',\n",
      "               'mass': '32',\n",
      "               'hair_color': 'n/a',\n",
      "               'skin_color': 'white, blue',\n",
      "               'eye_color': 'red',\n",
      "               'birth_year': '33BBY',\n",
      "               'gender': 'n/a',\n",
      "               'homeworld': 'https://swapi.dev/api/planets/8/',\n",
      "               'films': ['https://swapi.dev/api/films/1/',\n",
      "                         'https://swapi.dev/api/films/2/',\n",
      "                         'https://swapi.dev/api/films/3/',\n",
      "                         'https://swapi.dev/api/films/4/',\n",
      "                         'https://swapi.dev/api/films/5/',\n",
      "                         'https://swapi.dev/api/films/6/'],\n",
      "               'species': ['https://swapi.dev/api/species/2/'],\n",
      "               'vehicles': [],\n",
      "               'starships': [],\n",
      "               'created': '2014-12-10T15:11:50.376000Z',\n",
      "               'edited': '2014-12-20T21:17:50.311000Z',\n",
      "               'url': 'https://swapi.dev/api/people/3/'},\n",
      "              {'name': 'Darth Vader',\n",
      "               'height': '202',\n",
      "               'mass': '136',\n",
      "               'hair_color': 'none',\n",
      "               'skin_color': 'white',\n",
      "               'eye_color': 'yellow',\n",
      "               'birth_year': '41.9BBY',\n",
      "               'gender': 'male',\n",
      "               'homeworld': 'https://swapi.dev/api/planets/1/',\n",
      "               'films': ['https://swapi.dev/api/films/1/',\n",
      "                         'https://swapi.dev/api/films/2/',\n",
      "                         'https://swapi.dev/api/films/3/',\n",
      "                         'https://swapi.dev/api/films/6/'],\n",
      "               'species': [],\n",
      "               'vehicles': [],\n",
      "               'starships': ['https://swapi.dev/api/starships/13/'],\n",
      "               'created': '2014-12-10T15:18:20.704000Z',\n",
      "               'edited': '2014-12-20T21:17:50.313000Z',\n",
      "               'url': 'https://swapi.dev/api/people/4/'},\n",
      "              {'name': 'Leia Organa',\n",
      "               'height': '150',\n",
      "               'mass': '49',\n",
      "               'hair_color': 'brown',\n",
      "               'skin_color': 'light',\n",
      "               'eye_color': 'brown',\n",
      "               'birth_year': '19BBY',\n",
      "               'gender': 'female',\n",
      "               'homeworld': 'https://swapi.dev/api/planets/2/',\n",
      "               'films': ['https://swapi.dev/api/films/1/',\n",
      "                         'https://swapi.dev/api/films/2/',\n",
      "                         'https://swapi.dev/api/films/3/',\n",
      "                         'https://swapi.dev/api/films/6/'],\n",
      "               'species': [],\n",
      "               'vehicles': ['https://swapi.dev/api/vehicles/30/'],\n",
      "               'starships': [],\n",
      "               'created': '2014-12-10T15:20:09.791000Z',\n",
      "               'edited': '2014-12-20T21:17:50.315000Z',\n",
      "               'url': 'https://swapi.dev/api/people/5/'},\n",
      "              {'name': 'Owen Lars',\n",
      "               'height': '178',\n",
      "               'mass': '120',\n",
      "               'hair_color': 'brown, grey',\n",
      "               'skin_color': 'light',\n",
      "               'eye_color': 'blue',\n",
      "               'birth_year': '52BBY',\n",
      "               'gender': 'male',\n",
      "               'homeworld': 'https://swapi.dev/api/planets/1/',\n",
      "               'films': ['https://swapi.dev/api/films/1/',\n",
      "                         'https://swapi.dev/api/films/5/',\n",
      "                         'https://swapi.dev/api/films/6/'],\n",
      "               'species': [],\n",
      "               'vehicles': [],\n",
      "               'starships': [],\n",
      "               'created': '2014-12-10T15:52:14.024000Z',\n",
      "               'edited': '2014-12-20T21:17:50.317000Z',\n",
      "               'url': 'https://swapi.dev/api/people/6/'},\n",
      "              {'name': 'Beru Whitesun lars',\n",
      "               'height': '165',\n",
      "               'mass': '75',\n",
      "               'hair_color': 'brown',\n",
      "               'skin_color': 'light',\n",
      "               'eye_color': 'blue',\n",
      "               'birth_year': '47BBY',\n",
      "               'gender': 'female',\n",
      "               'homeworld': 'https://swapi.dev/api/planets/1/',\n",
      "               'films': ['https://swapi.dev/api/films/1/',\n",
      "                         'https://swapi.dev/api/films/5/',\n",
      "                         'https://swapi.dev/api/films/6/'],\n",
      "               'species': [],\n",
      "               'vehicles': [],\n",
      "               'starships': [],\n",
      "               'created': '2014-12-10T15:53:41.121000Z',\n",
      "               'edited': '2014-12-20T21:17:50.319000Z',\n",
      "               'url': 'https://swapi.dev/api/people/7/'},\n",
      "              {'name': 'R5-D4',\n",
      "               'height': '97',\n",
      "               'mass': '32',\n",
      "               'hair_color': 'n/a',\n",
      "               'skin_color': 'white, red',\n",
      "               'eye_color': 'red',\n",
      "               'birth_year': 'unknown',\n",
      "               'gender': 'n/a',\n",
      "               'homeworld': 'https://swapi.dev/api/planets/1/',\n",
      "               'films': ['https://swapi.dev/api/films/1/'],\n",
      "               'species': ['https://swapi.dev/api/species/2/'],\n",
      "               'vehicles': [],\n",
      "               'starships': [],\n",
      "               'created': '2014-12-10T15:57:50.959000Z',\n",
      "               'edited': '2014-12-20T21:17:50.321000Z',\n",
      "               'url': 'https://swapi.dev/api/people/8/'},\n",
      "              {'name': 'Biggs Darklighter',\n",
      "               'height': '183',\n",
      "               'mass': '84',\n",
      "               'hair_color': 'black',\n",
      "               'skin_color': 'light',\n",
      "               'eye_color': 'brown',\n",
      "               'birth_year': '24BBY',\n",
      "               'gender': 'male',\n",
      "               'homeworld': 'https://swapi.dev/api/planets/1/',\n",
      "               'films': ['https://swapi.dev/api/films/1/'],\n",
      "               'species': [],\n",
      "               'vehicles': [],\n",
      "               'starships': ['https://swapi.dev/api/starships/12/'],\n",
      "               'created': '2014-12-10T15:59:50.509000Z',\n",
      "               'edited': '2014-12-20T21:17:50.323000Z',\n",
      "               'url': 'https://swapi.dev/api/people/9/'},\n",
      "              {'name': 'Obi-Wan Kenobi',\n",
      "               'height': '182',\n",
      "               'mass': '77',\n",
      "               'hair_color': 'auburn, white',\n",
      "               'skin_color': 'fair',\n",
      "               'eye_color': 'blue-gray',\n",
      "               'birth_year': '57BBY',\n",
      "               'gender': 'male',\n",
      "               'homeworld': 'https://swapi.dev/api/planets/20/',\n",
      "               'films': ['https://swapi.dev/api/films/1/',\n",
      "                         'https://swapi.dev/api/films/2/',\n",
      "                         'https://swapi.dev/api/films/3/',\n",
      "                         'https://swapi.dev/api/films/4/',\n",
      "                         'https://swapi.dev/api/films/5/',\n",
      "                         'https://swapi.dev/api/films/6/'],\n",
      "               'species': [],\n",
      "               'vehicles': ['https://swapi.dev/api/vehicles/38/'],\n",
      "               'starships': ['https://swapi.dev/api/starships/48/',\n",
      "                             'https://swapi.dev/api/starships/59/',\n",
      "                             'https://swapi.dev/api/starships/64/',\n",
      "                             'https://swapi.dev/api/starships/65/',\n",
      "                             'https://swapi.dev/api/starships/74/'],\n",
      "               'created': '2014-12-10T16:16:29.192000Z',\n",
      "               'edited': '2014-12-20T21:17:50.325000Z',\n",
      "               'url': 'https://swapi.dev/api/people/10/'}]}]\n"
     ]
    }
   ],
   "source": [
    "baseurl = 'https://swapi.dev/api/people/?page='\n",
    "new_list = []\n",
    "for i in range(1, 2):\n",
    "    response2 = requests.get(baseurl + str(i))\n",
    "    r = response2.json()\n",
    "    new_list.append(r)\n",
    "\n",
    "print(len(new_list))\n",
    "pp(new_list)\n",
    "\n",
    "\n",
    "\n",
    "\n",
    "\n",
    "    \n",
    "    "
   ]
  },
  {
   "cell_type": "code",
   "execution_count": 6,
   "metadata": {},
   "outputs": [
    {
     "name": "stdout",
     "output_type": "stream",
     "text": [
      "[{'name': 'Luke Skywalker', 'height': '172', 'mass': '77', 'hair_color': 'blond', 'skin_color': 'fair', 'eye_color': 'blue', 'birth_year': '19BBY', 'gender': 'male', 'homeworld': 'https://swapi.dev/api/planets/1/', 'films': ['https://swapi.dev/api/films/1/', 'https://swapi.dev/api/films/2/', 'https://swapi.dev/api/films/3/', 'https://swapi.dev/api/films/6/'], 'species': [], 'vehicles': ['https://swapi.dev/api/vehicles/14/', 'https://swapi.dev/api/vehicles/30/'], 'starships': ['https://swapi.dev/api/starships/12/', 'https://swapi.dev/api/starships/22/'], 'created': '2014-12-09T13:50:51.644000Z', 'edited': '2014-12-20T21:17:56.891000Z', 'url': 'https://swapi.dev/api/people/1/'}, {'name': 'C-3PO', 'height': '167', 'mass': '75', 'hair_color': 'n/a', 'skin_color': 'gold', 'eye_color': 'yellow', 'birth_year': '112BBY', 'gender': 'n/a', 'homeworld': 'https://swapi.dev/api/planets/1/', 'films': ['https://swapi.dev/api/films/1/', 'https://swapi.dev/api/films/2/', 'https://swapi.dev/api/films/3/', 'https://swapi.dev/api/films/4/', 'https://swapi.dev/api/films/5/', 'https://swapi.dev/api/films/6/'], 'species': ['https://swapi.dev/api/species/2/'], 'vehicles': [], 'starships': [], 'created': '2014-12-10T15:10:51.357000Z', 'edited': '2014-12-20T21:17:50.309000Z', 'url': 'https://swapi.dev/api/people/2/'}, {'name': 'R2-D2', 'height': '96', 'mass': '32', 'hair_color': 'n/a', 'skin_color': 'white, blue', 'eye_color': 'red', 'birth_year': '33BBY', 'gender': 'n/a', 'homeworld': 'https://swapi.dev/api/planets/8/', 'films': ['https://swapi.dev/api/films/1/', 'https://swapi.dev/api/films/2/', 'https://swapi.dev/api/films/3/', 'https://swapi.dev/api/films/4/', 'https://swapi.dev/api/films/5/', 'https://swapi.dev/api/films/6/'], 'species': ['https://swapi.dev/api/species/2/'], 'vehicles': [], 'starships': [], 'created': '2014-12-10T15:11:50.376000Z', 'edited': '2014-12-20T21:17:50.311000Z', 'url': 'https://swapi.dev/api/people/3/'}, {'name': 'Darth Vader', 'height': '202', 'mass': '136', 'hair_color': 'none', 'skin_color': 'white', 'eye_color': 'yellow', 'birth_year': '41.9BBY', 'gender': 'male', 'homeworld': 'https://swapi.dev/api/planets/1/', 'films': ['https://swapi.dev/api/films/1/', 'https://swapi.dev/api/films/2/', 'https://swapi.dev/api/films/3/', 'https://swapi.dev/api/films/6/'], 'species': [], 'vehicles': [], 'starships': ['https://swapi.dev/api/starships/13/'], 'created': '2014-12-10T15:18:20.704000Z', 'edited': '2014-12-20T21:17:50.313000Z', 'url': 'https://swapi.dev/api/people/4/'}, {'name': 'Leia Organa', 'height': '150', 'mass': '49', 'hair_color': 'brown', 'skin_color': 'light', 'eye_color': 'brown', 'birth_year': '19BBY', 'gender': 'female', 'homeworld': 'https://swapi.dev/api/planets/2/', 'films': ['https://swapi.dev/api/films/1/', 'https://swapi.dev/api/films/2/', 'https://swapi.dev/api/films/3/', 'https://swapi.dev/api/films/6/'], 'species': [], 'vehicles': ['https://swapi.dev/api/vehicles/30/'], 'starships': [], 'created': '2014-12-10T15:20:09.791000Z', 'edited': '2014-12-20T21:17:50.315000Z', 'url': 'https://swapi.dev/api/people/5/'}, {'name': 'Owen Lars', 'height': '178', 'mass': '120', 'hair_color': 'brown, grey', 'skin_color': 'light', 'eye_color': 'blue', 'birth_year': '52BBY', 'gender': 'male', 'homeworld': 'https://swapi.dev/api/planets/1/', 'films': ['https://swapi.dev/api/films/1/', 'https://swapi.dev/api/films/5/', 'https://swapi.dev/api/films/6/'], 'species': [], 'vehicles': [], 'starships': [], 'created': '2014-12-10T15:52:14.024000Z', 'edited': '2014-12-20T21:17:50.317000Z', 'url': 'https://swapi.dev/api/people/6/'}, {'name': 'Beru Whitesun lars', 'height': '165', 'mass': '75', 'hair_color': 'brown', 'skin_color': 'light', 'eye_color': 'blue', 'birth_year': '47BBY', 'gender': 'female', 'homeworld': 'https://swapi.dev/api/planets/1/', 'films': ['https://swapi.dev/api/films/1/', 'https://swapi.dev/api/films/5/', 'https://swapi.dev/api/films/6/'], 'species': [], 'vehicles': [], 'starships': [], 'created': '2014-12-10T15:53:41.121000Z', 'edited': '2014-12-20T21:17:50.319000Z', 'url': 'https://swapi.dev/api/people/7/'}, {'name': 'R5-D4', 'height': '97', 'mass': '32', 'hair_color': 'n/a', 'skin_color': 'white, red', 'eye_color': 'red', 'birth_year': 'unknown', 'gender': 'n/a', 'homeworld': 'https://swapi.dev/api/planets/1/', 'films': ['https://swapi.dev/api/films/1/'], 'species': ['https://swapi.dev/api/species/2/'], 'vehicles': [], 'starships': [], 'created': '2014-12-10T15:57:50.959000Z', 'edited': '2014-12-20T21:17:50.321000Z', 'url': 'https://swapi.dev/api/people/8/'}, {'name': 'Biggs Darklighter', 'height': '183', 'mass': '84', 'hair_color': 'black', 'skin_color': 'light', 'eye_color': 'brown', 'birth_year': '24BBY', 'gender': 'male', 'homeworld': 'https://swapi.dev/api/planets/1/', 'films': ['https://swapi.dev/api/films/1/'], 'species': [], 'vehicles': [], 'starships': ['https://swapi.dev/api/starships/12/'], 'created': '2014-12-10T15:59:50.509000Z', 'edited': '2014-12-20T21:17:50.323000Z', 'url': 'https://swapi.dev/api/people/9/'}, {'name': 'Obi-Wan Kenobi', 'height': '182', 'mass': '77', 'hair_color': 'auburn, white', 'skin_color': 'fair', 'eye_color': 'blue-gray', 'birth_year': '57BBY', 'gender': 'male', 'homeworld': 'https://swapi.dev/api/planets/20/', 'films': ['https://swapi.dev/api/films/1/', 'https://swapi.dev/api/films/2/', 'https://swapi.dev/api/films/3/', 'https://swapi.dev/api/films/4/', 'https://swapi.dev/api/films/5/', 'https://swapi.dev/api/films/6/'], 'species': [], 'vehicles': ['https://swapi.dev/api/vehicles/38/'], 'starships': ['https://swapi.dev/api/starships/48/', 'https://swapi.dev/api/starships/59/', 'https://swapi.dev/api/starships/64/', 'https://swapi.dev/api/starships/65/', 'https://swapi.dev/api/starships/74/'], 'created': '2014-12-10T16:16:29.192000Z', 'edited': '2014-12-20T21:17:50.325000Z', 'url': 'https://swapi.dev/api/people/10/'}]\n"
     ]
    }
   ],
   "source": [
    "result_list = []\n",
    "#for num in range(0, 9):\n",
    "    #results = new_list[num]['results']\n",
    "    #result_list.extend(results)\n",
    "\n",
    "#\n",
    "\n",
    "for i in new_list:\n",
    "    #print(i)\n",
    "    for j in i['results']:\n",
    "        result_list.append(j)\n",
    "\n",
    "print(result_list)\n",
    "#print(new_list[0])\n",
    "    \n",
    "#print(result_list[0])        \n"
   ]
  },
  {
   "cell_type": "code",
   "execution_count": 43,
   "metadata": {},
   "outputs": [
    {
     "name": "stdout",
     "output_type": "stream",
     "text": [
      "['Luke Skywalker', 'C-3PO', 'R2-D2', 'Darth Vader', 'Leia Organa', 'Owen Lars', 'Beru Whitesun lars', 'R5-D4', 'Biggs Darklighter', 'Obi-Wan Kenobi']\n"
     ]
    }
   ],
   "source": [
    "result_list1 = []\n",
    "names = []\n",
    "def get_all_names(result_list1):\n",
    "     names = []\n",
    "     for result in result_list1:\n",
    "        names.append(result['name'])\n",
    "     return names\n",
    "    \n",
    "\n",
    "result_list1 = result_list \n",
    "names1 = get_all_names(result_list1)\n",
    "print(names1)\n",
    "\n"
   ]
  },
  {
   "cell_type": "code",
   "execution_count": 47,
   "metadata": {},
   "outputs": [
    {
     "name": "stdout",
     "output_type": "stream",
     "text": [
      "60 17\n"
     ]
    }
   ],
   "source": [
    "def count_genders(base_url):\n",
    "    male_count = 0\n",
    "    female_count = 0\n",
    "    page = 1\n",
    "    while True:\n",
    "        url = base_url + str(page)\n",
    "        response = requests.get(url)\n",
    "        data = response.json()\n",
    "        for result in data['results']:\n",
    "            if result['gender'] == 'male':\n",
    "                male_count += 1\n",
    "            elif result['gender'] == 'female':\n",
    "                female_count += 1\n",
    "        if data['next'] is None:\n",
    "            break\n",
    "        page += 1\n",
    "    return male_count, female_count\n",
    "\n",
    "baseurl1 = 'https://swapi.dev/api/people/?page='\n",
    "male_count1, female_count1 = count_genders(baseurl1)\n",
    "print(male_count1, female_count1)\n",
    "\n",
    "\n",
    "\n",
    "\n"
   ]
  },
  {
   "cell_type": "code",
   "execution_count": 32,
   "metadata": {},
   "outputs": [
    {
     "name": "stdout",
     "output_type": "stream",
     "text": [
      "['Luke Skywalker', 'C-3PO', 'R2-D2', 'Darth Vader', 'Leia Organa', 'Owen Lars', 'Beru Whitesun lars', 'R5-D4', 'Biggs Darklighter', 'Obi-Wan Kenobi', 'Anakin Skywalker', 'Wilhuff Tarkin', 'Chewbacca', 'Han Solo', 'Greedo', 'Jabba Desilijic Tiure', 'Wedge Antilles', 'Jek Tono Porkins', 'Yoda', 'Palpatine', 'Boba Fett', 'IG-88', 'Bossk', 'Lando Calrissian', 'Lobot', 'Ackbar', 'Mon Mothma', 'Arvel Crynyd', 'Wicket Systri Warrick', 'Nien Nunb', 'Qui-Gon Jinn', 'Nute Gunray', 'Finis Valorum', 'Padmé Amidala', 'Jar Jar Binks', 'Roos Tarpals', 'Rugor Nass', 'Ric Olié', 'Watto', 'Sebulba', 'Quarsh Panaka', 'Shmi Skywalker', 'Darth Maul', 'Bib Fortuna', 'Ayla Secura', 'Ratts Tyerel', 'Dud Bolt', 'Gasgano', 'Ben Quadinaros', 'Mace Windu', 'Ki-Adi-Mundi', 'Kit Fisto', 'Eeth Koth', 'Adi Gallia', 'Saesee Tiin', 'Yarael Poof', 'Plo Koon', 'Mas Amedda', 'Gregar Typho', 'Cordé', 'Cliegg Lars', 'Poggle the Lesser', 'Luminara Unduli', 'Barriss Offee', 'Dormé', 'Dooku', 'Bail Prestor Organa', 'Jango Fett', 'Zam Wesell', 'Dexter Jettster', 'Lama Su', 'Taun We', 'Jocasta Nu', 'R4-P17', 'Wat Tambor', 'San Hill', 'Shaak Ti', 'Grievous', 'Tarfful', 'Raymus Antilles', 'Sly Moore', 'Tion Medon']\n"
     ]
    }
   ],
   "source": [
    "baseurl = 'https://swapi.dev/api/people/?page='\n",
    "def get_names(base_url):\n",
    "    names = []\n",
    "    page = 1\n",
    "    while True:\n",
    "        url = base_url + str(page)\n",
    "        response = requests.get(url)\n",
    "        data = response.json()\n",
    "        names.extend([d['name'] for d in data['results']])\n",
    "        if data['next'] is None:\n",
    "            break\n",
    "        page += 1\n",
    "    return names\n",
    "\n",
    "names = get_names(baseurl)\n",
    "print(names)"
   ]
  },
  {
   "cell_type": "code",
   "execution_count": 57,
   "metadata": {},
   "outputs": [
    {
     "name": "stdout",
     "output_type": "stream",
     "text": [
      "['Luke Skywalker', 'C-3PO', 'R2-D2', 'Darth Vader', 'Leia Organa', 'Owen Lars', 'Beru Whitesun lars', 'R5-D4', 'Biggs Darklighter', 'Obi-Wan Kenobi', 'Luke Skywalker', 'C-3PO', 'R2-D2', 'Darth Vader', 'Leia Organa', 'Owen Lars', 'Beru Whitesun lars', 'R5-D4', 'Biggs Darklighter', 'Obi-Wan Kenobi', 'Luke Skywalker', 'C-3PO', 'R2-D2', 'Darth Vader', 'Leia Organa', 'Owen Lars', 'Beru Whitesun lars', 'R5-D4', 'Biggs Darklighter', 'Obi-Wan Kenobi', 'Luke Skywalker', 'C-3PO', 'R2-D2', 'Darth Vader', 'Leia Organa', 'Owen Lars', 'Beru Whitesun lars', 'R5-D4', 'Biggs Darklighter', 'Obi-Wan Kenobi', 'Luke Skywalker', 'C-3PO', 'R2-D2', 'Darth Vader', 'Leia Organa', 'Owen Lars', 'Beru Whitesun lars', 'R5-D4', 'Biggs Darklighter', 'Obi-Wan Kenobi', 'Luke Skywalker', 'C-3PO', 'R2-D2', 'Darth Vader', 'Leia Organa', 'Owen Lars', 'Beru Whitesun lars', 'R5-D4', 'Biggs Darklighter', 'Obi-Wan Kenobi', 'Luke Skywalker', 'C-3PO', 'R2-D2', 'Darth Vader', 'Leia Organa', 'Owen Lars', 'Beru Whitesun lars', 'R5-D4', 'Biggs Darklighter', 'Obi-Wan Kenobi', 'Luke Skywalker', 'C-3PO', 'R2-D2', 'Darth Vader', 'Leia Organa', 'Owen Lars', 'Beru Whitesun lars', 'R5-D4', 'Biggs Darklighter', 'Obi-Wan Kenobi', 'Luke Skywalker', 'C-3PO', 'R2-D2', 'Darth Vader', 'Leia Organa', 'Owen Lars', 'Beru Whitesun lars', 'R5-D4', 'Biggs Darklighter', 'Obi-Wan Kenobi', 'Luke Skywalker', 'C-3PO', 'R2-D2', 'Darth Vader', 'Leia Organa', 'Owen Lars', 'Beru Whitesun lars', 'R5-D4', 'Biggs Darklighter', 'Obi-Wan Kenobi', 'Luke Skywalker', 'C-3PO', 'R2-D2', 'Darth Vader', 'Leia Organa', 'Owen Lars', 'Beru Whitesun lars', 'R5-D4', 'Biggs Darklighter', 'Obi-Wan Kenobi', 'Luke Skywalker', 'C-3PO', 'R2-D2', 'Darth Vader', 'Leia Organa', 'Owen Lars', 'Beru Whitesun lars', 'R5-D4', 'Biggs Darklighter', 'Obi-Wan Kenobi', 'Luke Skywalker', 'C-3PO', 'R2-D2', 'Darth Vader', 'Leia Organa', 'Owen Lars', 'Beru Whitesun lars', 'R5-D4', 'Biggs Darklighter', 'Obi-Wan Kenobi', 'Luke Skywalker', 'C-3PO', 'R2-D2', 'Darth Vader', 'Leia Organa', 'Owen Lars', 'Beru Whitesun lars', 'R5-D4', 'Biggs Darklighter', 'Obi-Wan Kenobi', 'Luke Skywalker', 'C-3PO', 'R2-D2', 'Darth Vader', 'Leia Organa', 'Owen Lars', 'Beru Whitesun lars', 'R5-D4', 'Biggs Darklighter', 'Obi-Wan Kenobi', 'Luke Skywalker', 'C-3PO', 'R2-D2', 'Darth Vader', 'Leia Organa', 'Owen Lars', 'Beru Whitesun lars', 'R5-D4', 'Biggs Darklighter', 'Obi-Wan Kenobi', 'Luke Skywalker', 'C-3PO', 'R2-D2', 'Darth Vader', 'Leia Organa', 'Owen Lars', 'Beru Whitesun lars', 'R5-D4', 'Biggs Darklighter', 'Obi-Wan Kenobi', 'Luke Skywalker', 'C-3PO', 'R2-D2', 'Darth Vader', 'Leia Organa', 'Owen Lars', 'Beru Whitesun lars', 'R5-D4', 'Biggs Darklighter', 'Obi-Wan Kenobi', 'Luke Skywalker', 'C-3PO', 'R2-D2', 'Darth Vader', 'Leia Organa', 'Owen Lars', 'Beru Whitesun lars', 'R5-D4', 'Biggs Darklighter', 'Obi-Wan Kenobi', 'Luke Skywalker', 'C-3PO', 'R2-D2', 'Darth Vader', 'Leia Organa', 'Owen Lars', 'Beru Whitesun lars', 'R5-D4', 'Biggs Darklighter', 'Obi-Wan Kenobi', 'Luke Skywalker', 'C-3PO', 'R2-D2', 'Darth Vader', 'Leia Organa', 'Owen Lars', 'Beru Whitesun lars', 'R5-D4', 'Biggs Darklighter', 'Obi-Wan Kenobi', 'Luke Skywalker', 'C-3PO', 'R2-D2', 'Darth Vader', 'Leia Organa', 'Owen Lars', 'Beru Whitesun lars', 'R5-D4', 'Biggs Darklighter', 'Obi-Wan Kenobi', 'Luke Skywalker', 'C-3PO', 'R2-D2', 'Darth Vader', 'Leia Organa', 'Owen Lars', 'Beru Whitesun lars', 'R5-D4', 'Biggs Darklighter', 'Obi-Wan Kenobi', 'Luke Skywalker', 'C-3PO', 'R2-D2', 'Darth Vader', 'Leia Organa', 'Owen Lars', 'Beru Whitesun lars', 'R5-D4', 'Biggs Darklighter', 'Obi-Wan Kenobi', 'Luke Skywalker', 'C-3PO', 'R2-D2', 'Darth Vader', 'Leia Organa', 'Owen Lars', 'Beru Whitesun lars', 'R5-D4', 'Biggs Darklighter', 'Obi-Wan Kenobi', 'Luke Skywalker', 'C-3PO', 'R2-D2', 'Darth Vader', 'Leia Organa', 'Owen Lars', 'Beru Whitesun lars', 'R5-D4', 'Biggs Darklighter', 'Obi-Wan Kenobi', 'Luke Skywalker', 'C-3PO', 'R2-D2', 'Darth Vader', 'Leia Organa', 'Owen Lars', 'Beru Whitesun lars', 'R5-D4', 'Biggs Darklighter', 'Obi-Wan Kenobi', 'Luke Skywalker', 'C-3PO', 'R2-D2', 'Darth Vader', 'Leia Organa', 'Owen Lars', 'Beru Whitesun lars', 'R5-D4', 'Biggs Darklighter', 'Obi-Wan Kenobi', 'Luke Skywalker', 'C-3PO', 'R2-D2', 'Darth Vader', 'Leia Organa', 'Owen Lars', 'Beru Whitesun lars', 'R5-D4', 'Biggs Darklighter', 'Obi-Wan Kenobi', 'Luke Skywalker', 'C-3PO', 'R2-D2', 'Darth Vader', 'Leia Organa', 'Owen Lars', 'Beru Whitesun lars', 'R5-D4', 'Biggs Darklighter', 'Obi-Wan Kenobi', 'Luke Skywalker', 'C-3PO', 'R2-D2', 'Darth Vader', 'Leia Organa', 'Owen Lars', 'Beru Whitesun lars', 'R5-D4', 'Biggs Darklighter', 'Obi-Wan Kenobi', 'Luke Skywalker', 'C-3PO', 'R2-D2', 'Darth Vader', 'Leia Organa', 'Owen Lars', 'Beru Whitesun lars', 'R5-D4', 'Biggs Darklighter', 'Obi-Wan Kenobi', 'Luke Skywalker', 'C-3PO', 'R2-D2', 'Darth Vader', 'Leia Organa', 'Owen Lars', 'Beru Whitesun lars', 'R5-D4', 'Biggs Darklighter', 'Obi-Wan Kenobi', 'Luke Skywalker', 'C-3PO', 'R2-D2', 'Darth Vader', 'Leia Organa', 'Owen Lars', 'Beru Whitesun lars', 'R5-D4', 'Biggs Darklighter', 'Obi-Wan Kenobi', 'Luke Skywalker', 'C-3PO', 'R2-D2', 'Darth Vader', 'Leia Organa', 'Owen Lars', 'Beru Whitesun lars', 'R5-D4', 'Biggs Darklighter', 'Obi-Wan Kenobi', 'Luke Skywalker', 'C-3PO', 'R2-D2', 'Darth Vader', 'Leia Organa', 'Owen Lars', 'Beru Whitesun lars', 'R5-D4', 'Biggs Darklighter', 'Obi-Wan Kenobi']\n",
      "180\n",
      "72\n"
     ]
    }
   ],
   "source": [
    "url = 'https://swapi.dev/api/people/?page = '\n",
    "response1 = requests.get(url)\n",
    "r = response1.json()\n",
    "new_list.append(r)\n",
    "names = []\n",
    "for i in new_list:\n",
    "    for j in i['results']:\n",
    "        result_list.append(j)\n",
    "    \n",
    "def get_all_names(result_list1):\n",
    "     \n",
    "     for result in result_list1:\n",
    "        names.append(result['name'])\n",
    "     return names\n",
    "    \n",
    "def get_male_female_count(result_list2):\n",
    "    countmale = 0\n",
    "    countfemale = 0\n",
    "    for e in result_list2:\n",
    "        if e['gender'] == 'male':\n",
    "            countmale = countmale + 1\n",
    "            \n",
    "        elif e['gender'] == 'female':\n",
    "            countfemale = countfemale + 1\n",
    "    print(countmale)\n",
    "    print(countfemale)\n",
    "\n",
    "\n",
    "\n",
    "result_list1 = result_list \n",
    "names1 = get_all_names(result_list1)\n",
    "print(names1)\n",
    "\n",
    "result_list5 = result_list\n",
    "get_male_female_count(result_list5)\n",
    "\n",
    "\n",
    "\n",
    "\n"
   ]
  },
  {
   "cell_type": "code",
   "execution_count": 53,
   "metadata": {},
   "outputs": [
    {
     "name": "stdout",
     "output_type": "stream",
     "text": [
      "['Luke Skywalker', 'C-3PO', 'R2-D2', 'Darth Vader', 'Leia Organa', 'Obi-Wan Kenobi', 'Luke Skywalker', 'C-3PO', 'R2-D2', 'Darth Vader', 'Leia Organa', 'Obi-Wan Kenobi', 'Luke Skywalker', 'C-3PO', 'R2-D2', 'Darth Vader', 'Leia Organa', 'Obi-Wan Kenobi', 'Luke Skywalker', 'C-3PO', 'R2-D2', 'Darth Vader', 'Leia Organa', 'Obi-Wan Kenobi', 'Luke Skywalker', 'C-3PO', 'R2-D2', 'Darth Vader', 'Leia Organa', 'Obi-Wan Kenobi', 'Luke Skywalker', 'C-3PO', 'R2-D2', 'Darth Vader', 'Leia Organa', 'Obi-Wan Kenobi', 'Luke Skywalker', 'C-3PO', 'R2-D2', 'Darth Vader', 'Leia Organa', 'Obi-Wan Kenobi', 'Luke Skywalker', 'C-3PO', 'R2-D2', 'Darth Vader', 'Leia Organa', 'Obi-Wan Kenobi', 'Luke Skywalker', 'C-3PO', 'R2-D2', 'Darth Vader', 'Leia Organa', 'Obi-Wan Kenobi', 'Luke Skywalker', 'C-3PO', 'R2-D2', 'Darth Vader', 'Leia Organa', 'Obi-Wan Kenobi', 'Luke Skywalker', 'C-3PO', 'R2-D2', 'Darth Vader', 'Leia Organa', 'Obi-Wan Kenobi', 'Luke Skywalker', 'C-3PO', 'R2-D2', 'Darth Vader', 'Leia Organa', 'Obi-Wan Kenobi', 'Luke Skywalker', 'C-3PO', 'R2-D2', 'Darth Vader', 'Leia Organa', 'Obi-Wan Kenobi', 'Luke Skywalker', 'C-3PO', 'R2-D2', 'Darth Vader', 'Leia Organa', 'Obi-Wan Kenobi', 'Luke Skywalker', 'C-3PO', 'R2-D2', 'Darth Vader', 'Leia Organa', 'Obi-Wan Kenobi', 'Luke Skywalker', 'C-3PO', 'R2-D2', 'Darth Vader', 'Leia Organa', 'Obi-Wan Kenobi', 'Luke Skywalker', 'C-3PO', 'R2-D2', 'Darth Vader', 'Leia Organa', 'Obi-Wan Kenobi', 'Luke Skywalker', 'C-3PO', 'R2-D2', 'Darth Vader', 'Leia Organa', 'Obi-Wan Kenobi', 'Luke Skywalker', 'C-3PO', 'R2-D2', 'Darth Vader', 'Leia Organa', 'Obi-Wan Kenobi', 'Luke Skywalker', 'C-3PO', 'R2-D2', 'Darth Vader', 'Leia Organa', 'Obi-Wan Kenobi', 'Luke Skywalker', 'C-3PO', 'R2-D2', 'Darth Vader', 'Leia Organa', 'Obi-Wan Kenobi', 'Luke Skywalker', 'C-3PO', 'R2-D2', 'Darth Vader', 'Leia Organa', 'Obi-Wan Kenobi', 'Luke Skywalker', 'C-3PO', 'R2-D2', 'Darth Vader', 'Leia Organa', 'Obi-Wan Kenobi', 'Luke Skywalker', 'C-3PO', 'R2-D2', 'Darth Vader', 'Leia Organa', 'Obi-Wan Kenobi', 'Luke Skywalker', 'C-3PO', 'R2-D2', 'Darth Vader', 'Leia Organa', 'Obi-Wan Kenobi', 'Luke Skywalker', 'C-3PO', 'R2-D2', 'Darth Vader', 'Leia Organa', 'Obi-Wan Kenobi', 'Luke Skywalker', 'C-3PO', 'R2-D2', 'Darth Vader', 'Leia Organa', 'Obi-Wan Kenobi', 'Luke Skywalker', 'C-3PO', 'R2-D2', 'Darth Vader', 'Leia Organa', 'Obi-Wan Kenobi']\n"
     ]
    }
   ],
   "source": [
    "def get_characters_by_film_count(result_list, min_film_count):\n",
    "    characters = []\n",
    "    for d in result_list:\n",
    "        film_count = len(d['films'])\n",
    "        if film_count > min_film_count:\n",
    "            characters.append(d['name'])\n",
    "    return characters\n",
    "\n",
    "results1 = result_list\n",
    "characters = get_characters_by_film_count(results1, 3)\n",
    "print(characters)"
   ]
  },
  {
   "cell_type": "code",
   "execution_count": 55,
   "metadata": {},
   "outputs": [
    {
     "name": "stdout",
     "output_type": "stream",
     "text": [
      "(96, 202, 159.2)\n"
     ]
    }
   ],
   "source": [
    "def get_height_stats(results):\n",
    "    heights = []\n",
    "    for d in results:\n",
    "        height = d['height']\n",
    "        if height.isdigit():\n",
    "            heights.append(int(height))\n",
    "    min_height = min(heights)\n",
    "    max_height = max(heights)\n",
    "    avg_height = sum(heights) / len(heights)\n",
    "    stats =  min_height, max_height, avg_height\n",
    "    return stats\n",
    "\n",
    "results1 = result_list\n",
    "tuple_stats = get_height_stats(results1)\n",
    "print(tuple_stats)\n",
    "\n",
    "    "
   ]
  },
  {
   "cell_type": "code",
   "execution_count": 58,
   "metadata": {},
   "outputs": [
    {
     "name": "stdout",
     "output_type": "stream",
     "text": [
      "{'min_height': 165, 'max_height': 165, 'avg_height': 165.0}\n"
     ]
    }
   ],
   "source": [
    "def get_height_stats_by_color(results, eye_color, hair_color):\n",
    "    heights = []\n",
    "    for d in results:\n",
    "        if d['eye_color'] == eye_color and d['hair_color'] == hair_color:\n",
    "            height = d['height']\n",
    "            if height.isdigit():\n",
    "                heights.append(int(height))\n",
    "    min_height = min(heights)\n",
    "    max_height = max(heights)\n",
    "    avg_height = sum(heights) / len(heights)\n",
    "    stats = {\n",
    "        'min_height': min_height,\n",
    "        'max_height': max_height,\n",
    "        'avg_height': avg_height,\n",
    "    }\n",
    "    return stats\n",
    "\n",
    "results3 = result_list\n",
    "eye_color = 'blue'\n",
    "hair_color = 'brown'\n",
    "dict1 = get_height_stats_by_color(results3, eye_color, hair_color)\n",
    "print(dict1)"
   ]
  }
 ],
 "metadata": {
  "kernelspec": {
   "display_name": "Python 3",
   "language": "python",
   "name": "python3"
  },
  "language_info": {
   "codemirror_mode": {
    "name": "ipython",
    "version": 3
   },
   "file_extension": ".py",
   "mimetype": "text/x-python",
   "name": "python",
   "nbconvert_exporter": "python",
   "pygments_lexer": "ipython3",
   "version": "3.11.0 (main, Oct 24 2022, 18:26:48) [MSC v.1933 64 bit (AMD64)]"
  },
  "orig_nbformat": 4,
  "vscode": {
   "interpreter": {
    "hash": "8b70a4ea831fd5b9b770fab33cac3f0a285469b7491720cba6f6d634f19e8405"
   }
  }
 },
 "nbformat": 4,
 "nbformat_minor": 2
}
