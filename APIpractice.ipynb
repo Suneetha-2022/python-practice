{
 "cells": [
  {
   "cell_type": "code",
   "execution_count": 1,
   "metadata": {},
   "outputs": [],
   "source": [
    "import requests\n",
    "import json\n",
    "from pprint import pp"
   ]
  },
  {
   "cell_type": "code",
   "execution_count": 7,
   "metadata": {},
   "outputs": [
    {
     "name": "stdout",
     "output_type": "stream",
     "text": [
      "1\n",
      "2\n",
      "3\n",
      "4\n",
      "5\n",
      "6\n",
      "7\n",
      "8\n",
      "9\n",
      "10\n",
      "11\n",
      "12\n",
      "13\n",
      "14\n",
      "15\n",
      "16\n",
      "17\n",
      "18\n",
      "19\n",
      "20\n",
      "21\n",
      "22\n",
      "23\n",
      "24\n",
      "25\n",
      "26\n",
      "27\n",
      "28\n",
      "29\n",
      "30\n",
      "31\n",
      "32\n",
      "33\n",
      "34\n",
      "35\n",
      "36\n",
      "37\n",
      "38\n",
      "39\n",
      "40\n",
      "41\n",
      "42\n",
      "840\n"
     ]
    }
   ],
   "source": [
    "baseurl = 'https://rickandmortyapi.com/api/'\n",
    "endpoint = 'character'\n",
    "\n",
    "def main_request(base_url, endpoint, x):\n",
    "   r = requests.get(baseurl + endpoint + f'?page = {x}')\n",
    "   data = r.json()\n",
    "   return data\n",
    "\n",
    "def get_pages(response):\n",
    "    pages = response['info']['pages']\n",
    "    return pages\n",
    "\n",
    "def parse_json(response):\n",
    "    charlist = []\n",
    "    for item in response['results']:\n",
    "        char = {\n",
    "                'name':item['name'],\n",
    "                'no_ep': len(item['episode']),\n",
    "               }\n",
    "        charlist.append(char)\n",
    "    return charlist\n",
    "\n",
    "data = main_request(baseurl, endpoint, 1)\n",
    "mainlist = []\n",
    "for x in range(1, get_pages(data)+1):\n",
    "    print(x)\n",
    "    mainlist.extend(parse_json(main_request(baseurl, endpoint, x)))\n",
    "print(len(mainlist))\n",
    "\n",
    "\n"
   ]
  },
  {
   "cell_type": "code",
   "execution_count": 8,
   "metadata": {},
   "outputs": [
    {
     "name": "stdout",
     "output_type": "stream",
     "text": [
      "[{'name': 'Rick Sanchez', 'no_ep': 51}, {'name': 'Morty Smith', 'no_ep': 51}, {'name': 'Summer Smith', 'no_ep': 42}, {'name': 'Beth Smith', 'no_ep': 42}, {'name': 'Jerry Smith', 'no_ep': 39}, {'name': 'Abadango Cluster Princess', 'no_ep': 1}, {'name': 'Abradolf Lincler', 'no_ep': 2}, {'name': 'Adjudicator Rick', 'no_ep': 1}, {'name': 'Agency Director', 'no_ep': 1}, {'name': 'Alan Rails', 'no_ep': 1}, {'name': 'Albert Einstein', 'no_ep': 1}, {'name': 'Alexander', 'no_ep': 1}, {'name': 'Alien Googah', 'no_ep': 1}, {'name': 'Alien Morty', 'no_ep': 1}, {'name': 'Alien Rick', 'no_ep': 1}, {'name': 'Amish Cyborg', 'no_ep': 1}, {'name': 'Annie', 'no_ep': 1}, {'name': 'Antenna Morty', 'no_ep': 2}, {'name': 'Antenna Rick', 'no_ep': 1}, {'name': 'Ants in my Eyes Johnson', 'no_ep': 1}]\n"
     ]
    }
   ],
   "source": [
    "baseurl = 'https://rickandmortyapi.com/api/'\n",
    "endpoint = 'character'\n",
    "\n",
    "def main_request(base_url, endpoint, x):\n",
    "   r = requests.get(baseurl + endpoint + f'?page = {x}')\n",
    "   data = r.json()\n",
    "   return data\n",
    "\n",
    "def get_pages(data):\n",
    "    pages = data['info']['pages']\n",
    "    return pages\n",
    "\n",
    "def parse_json(data):\n",
    "    charlist = []\n",
    "    for item in data['results']:\n",
    "        char = {\n",
    "                'name':item['name'],\n",
    "                'no_ep': len(item['episode']),\n",
    "               }\n",
    "        charlist.append(char)\n",
    "    return charlist\n",
    "\n",
    "data1 = main_request(baseurl, endpoint, 1)\n",
    "a = parse_json(data1)\n",
    "print(a)\n",
    "#mainlist = []\n",
    "#for x in range(1, get_pages(data)+1):\n",
    "    #print(x)\n",
    "    #mainlist.extend(parse_json(main_request(baseurl, endpoint, x)))\n",
    "#print(len(mainlist))"
   ]
  }
 ],
 "metadata": {
  "kernelspec": {
   "display_name": "Python 3",
   "language": "python",
   "name": "python3"
  },
  "language_info": {
   "codemirror_mode": {
    "name": "ipython",
    "version": 3
   },
   "file_extension": ".py",
   "mimetype": "text/x-python",
   "name": "python",
   "nbconvert_exporter": "python",
   "pygments_lexer": "ipython3",
   "version": "3.11.0 (main, Oct 24 2022, 18:26:48) [MSC v.1933 64 bit (AMD64)]"
  },
  "orig_nbformat": 4,
  "vscode": {
   "interpreter": {
    "hash": "8b70a4ea831fd5b9b770fab33cac3f0a285469b7491720cba6f6d634f19e8405"
   }
  }
 },
 "nbformat": 4,
 "nbformat_minor": 2
}
