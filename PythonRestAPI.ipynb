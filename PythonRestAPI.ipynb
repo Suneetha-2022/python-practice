{
 "cells": [
  {
   "cell_type": "code",
   "execution_count": 2,
   "metadata": {},
   "outputs": [],
   "source": [
    "import requests\n",
    "import json\n",
    "from pprint import pp"
   ]
  },
  {
   "cell_type": "code",
   "execution_count": 5,
   "metadata": {},
   "outputs": [
    {
     "name": "stdout",
     "output_type": "stream",
     "text": [
      "{'userId': 1, 'id': 1, 'title': 'delectus aut autem', 'completed': False}\n",
      "200\n",
      "application/json; charset=utf-8\n"
     ]
    }
   ],
   "source": [
    "api_url = \"https://jsonplaceholder.typicode.com/todos/1\"\n",
    "response = requests.get(api_url)\n",
    "r = response.json()\n",
    "print(response.json())\n",
    "print(response.status_code)\n",
    "print(response.headers[\"Content-Type\"])"
   ]
  },
  {
   "cell_type": "code",
   "execution_count": 12,
   "metadata": {},
   "outputs": [
    {
     "name": "stdout",
     "output_type": "stream",
     "text": [
      "201\n",
      "{'userId': 1, 'title': 'Buy milk', 'completed': False, 'id': 201}\n",
      "<bound method Response.json of <Response [201]>>\n"
     ]
    }
   ],
   "source": [
    "api_url = \"https://jsonplaceholder.typicode.com/todos\"\n",
    "todo = {\"userId\": 1, \"title\": \"Buy milk\", \"completed\": False}\n",
    "response = requests.post(api_url, json=todo)\n",
    "print(response.status_code)\n",
    "print(response.json())\n",
    "#OR\n",
    "headers = {\"Content-Type\": \"application-json\"}\n",
    "response = requests.post(api_url, data = json.dumps(todo), headers = headers)\n",
    "print(response.json)"
   ]
  },
  {
   "cell_type": "code",
   "execution_count": 8,
   "metadata": {},
   "outputs": [
    {
     "name": "stdout",
     "output_type": "stream",
     "text": [
      "{'userId': 1, 'id': 10, 'title': 'illo est ratione doloremque quia maiores aut', 'completed': True}\n",
      "200\n",
      "{'userId': 1, 'title': 'Buy milk', 'completed': False, 'id': 10}\n"
     ]
    }
   ],
   "source": [
    "#Put\n",
    "api_url = \"https://jsonplaceholder.typicode.com/todos/10\"\n",
    "response = requests.get(api_url)\n",
    "print(response.json())\n",
    "todo = {\"userId\": 1, \"title\": \"Buy milk\", \"completed\": False}\n",
    "response = requests.put(api_url, json=todo)\n",
    "print(response.status_code)\n",
    "print(response.json())\n"
   ]
  },
  {
   "cell_type": "code",
   "execution_count": 10,
   "metadata": {},
   "outputs": [
    {
     "name": "stdout",
     "output_type": "stream",
     "text": [
      "200\n",
      "{'userId': 1, 'id': 10, 'title': 'Mow lawn', 'completed': True}\n"
     ]
    }
   ],
   "source": [
    "#patch request\n",
    "api_url = \"https://jsonplaceholder.typicode.com/todos/10\"\n",
    "todo = {\"title\": \"Mow lawn\"}\n",
    "response = requests.patch(api_url, json=todo)\n",
    "print(response.status_code)\n",
    "print(response.json())"
   ]
  },
  {
   "cell_type": "code",
   "execution_count": 11,
   "metadata": {},
   "outputs": [
    {
     "name": "stdout",
     "output_type": "stream",
     "text": [
      "{}\n",
      "200\n"
     ]
    }
   ],
   "source": [
    "api_url = \"https://jsonplaceholder.typicode.com/todos/10\"\n",
    "response = requests.delete(api_url)\n",
    "print(response.json())\n",
    "print(response.status_code)"
   ]
  },
  {
   "cell_type": "code",
   "execution_count": 25,
   "metadata": {},
   "outputs": [
    {
     "name": "stdout",
     "output_type": "stream",
     "text": [
      "200\n",
      "{'message': 'success',\n",
      " 'people': [{'name': 'Sergey Prokopyev', 'craft': 'ISS'},\n",
      "            {'name': 'Dmitry Petelin', 'craft': 'ISS'},\n",
      "            {'name': 'Frank Rubio', 'craft': 'ISS'},\n",
      "            {'name': 'Nicole Mann', 'craft': 'ISS'},\n",
      "            {'name': 'Josh Cassada', 'craft': 'ISS'},\n",
      "            {'name': 'Koichi Wakata', 'craft': 'ISS'},\n",
      "            {'name': 'Anna Kikina', 'craft': 'ISS'},\n",
      "            {'name': 'Fei Junlong', 'craft': 'Shenzhou 15'},\n",
      "            {'name': 'Deng Qingming', 'craft': 'Shenzhou 15'},\n",
      "            {'name': 'Zhang Lu', 'craft': 'Shenzhou 15'}],\n",
      " 'number': 10}\n",
      "[{'name': 'Sergey Prokopyev', 'craft': 'ISS'}, {'name': 'Dmitry Petelin', 'craft': 'ISS'}, {'name': 'Frank Rubio', 'craft': 'ISS'}, {'name': 'Nicole Mann', 'craft': 'ISS'}, {'name': 'Josh Cassada', 'craft': 'ISS'}, {'name': 'Koichi Wakata', 'craft': 'ISS'}, {'name': 'Anna Kikina', 'craft': 'ISS'}, {'name': 'Fei Junlong', 'craft': 'Shenzhou 15'}, {'name': 'Deng Qingming', 'craft': 'Shenzhou 15'}, {'name': 'Zhang Lu', 'craft': 'Shenzhou 15'}]\n",
      "['Sergey Prokopyev', 'Dmitry Petelin', 'Frank Rubio', 'Nicole Mann', 'Josh Cassada', 'Koichi Wakata', 'Anna Kikina', 'Fei Junlong', 'Deng Qingming', 'Zhang Lu']\n"
     ]
    }
   ],
   "source": [
    "api_url = \"http://api.open-notify.org/astros.json\"\n",
    "response = requests.get(api_url)\n",
    "print(response.status_code)\n",
    "pp(response.json())\n",
    "r = response.json()\n",
    "\n",
    "people_subset_dict = r[\"people\"]#saving \"people\" key in \"people_subset_dict\" variable  \n",
    "print(people_subset_dict)\n",
    "\n",
    "plist = []\n",
    "\n",
    "def get_names(): \n",
    "    for i in people_subset_dict:\n",
    "       plist.append(i[\"name\"])\n",
    "       #print(i[\"name\"])\n",
    "    return plist\n",
    "\n",
    "new_list = get_names()\n",
    "print(new_list)\n"
   ]
  },
  {
   "cell_type": "code",
   "execution_count": 26,
   "metadata": {},
   "outputs": [
    {
     "name": "stdout",
     "output_type": "stream",
     "text": [
      "200\n",
      "{'view': {'id': 'f6w7-q2d2', 'name': 'Electric Vehicle Population Data', 'assetType': 'dataset', 'attribution': 'Washington State Department of Licensing', 'averageRating': 0, 'category': 'Transportation', 'createdAt': 1555435581, 'description': 'This dataset shows the Battery Electric Vehicles (BEVs) and Plug-in Hybrid Electric Vehicles (PHEVs) that are currently registered through Washington State Department of Licensing (DOL).', 'displayType': 'table', 'downloadCount': 39142, 'hideFromCatalog': False, 'hideFromDataJson': False, 'newBackend': True, 'numberOfComments': 0, 'oid': 38591322, 'provenance': 'official', 'publicationAppendEnabled': False, 'publicationDate': 1655411270, 'publicationGroup': 16109923, 'publicationStage': 'published', 'rowsUpdatedAt': 1670541235, 'rowsUpdatedBy': 'dphz-szpx', 'tableId': 18748445, 'totalTimesRated': 0, 'viewCount': 20234, 'viewLastModified': 1670541193, 'viewType': 'tabular', 'approvals': [{'reviewedAt': 1559931329, 'reviewedAutomatically': True, 'state': 'approved', 'submissionId': 4774840, 'submissionObject': 'public_audience_request', 'submissionOutcome': 'change_audience', 'submittedAt': 1559931329, 'workflowId': 2106, 'submissionDetails': {'permissionType': 'READ'}, 'submissionOutcomeApplication': {'failureCount': 0, 'status': 'success'}, 'submitter': {'id': 'eagg-6py7', 'displayName': 'Department of Licensing'}}], 'clientContext': {'clientContextVariables': [], 'inheritedVariables': {}}, 'columns': [{'id': -1, 'name': 'sid', 'dataTypeName': 'meta_data', 'fieldName': ':sid', 'position': 0, 'renderTypeName': 'meta_data', 'format': {}, 'flags': ['hidden']}, {'id': -1, 'name': 'id', 'dataTypeName': 'meta_data', 'fieldName': ':id', 'position': 0, 'renderTypeName': 'meta_data', 'format': {}, 'flags': ['hidden']}, {'id': -1, 'name': 'position', 'dataTypeName': 'meta_data', 'fieldName': ':position', 'position': 0, 'renderTypeName': 'meta_data', 'format': {}, 'flags': ['hidden']}, {'id': -1, 'name': 'created_at', 'dataTypeName': 'meta_data', 'fieldName': ':created_at', 'position': 0, 'renderTypeName': 'meta_data', 'format': {}, 'flags': ['hidden']}, {'id': -1, 'name': 'created_meta', 'dataTypeName': 'meta_data', 'fieldName': ':created_meta', 'position': 0, 'renderTypeName': 'meta_data', 'format': {}, 'flags': ['hidden']}, {'id': -1, 'name': 'updated_at', 'dataTypeName': 'meta_data', 'fieldName': ':updated_at', 'position': 0, 'renderTypeName': 'meta_data', 'format': {}, 'flags': ['hidden']}, {'id': -1, 'name': 'updated_meta', 'dataTypeName': 'meta_data', 'fieldName': ':updated_meta', 'position': 0, 'renderTypeName': 'meta_data', 'format': {}, 'flags': ['hidden']}, {'id': -1, 'name': 'meta', 'dataTypeName': 'meta_data', 'fieldName': ':meta', 'position': 0, 'renderTypeName': 'meta_data', 'format': {}, 'flags': ['hidden']}, {'id': 561974342, 'name': 'VIN (1-10)', 'dataTypeName': 'text', 'description': \"The 1st 10 characters of each vehicle's Vehicle Identification Number (VIN).\", 'fieldName': 'vin_1_10', 'position': 1, 'renderTypeName': 'text', 'tableColumnId': 79309982, 'format': {}}, {'id': 561974343, 'name': 'County', 'dataTypeName': 'text', 'description': 'The county in which the registered owner resides.', 'fieldName': 'county', 'position': 2, 'renderTypeName': 'text', 'tableColumnId': 79309981, 'format': {}}, {'id': 561974344, 'name': 'City', 'dataTypeName': 'text', 'description': 'The city in which the registered owner resides.', 'fieldName': 'city', 'position': 3, 'renderTypeName': 'text', 'tableColumnId': 79309980, 'format': {}}, {'id': 561974345, 'name': 'State', 'dataTypeName': 'text', 'description': 'The state in which the registered owner resides.', 'fieldName': 'state', 'position': 4, 'renderTypeName': 'text', 'tableColumnId': 80218820, 'format': {}}, {'id': 561974346, 'name': 'Postal Code', 'dataTypeName': 'text', 'description': 'The 5 digit zip code in which the registered owner resides.', 'fieldName': 'zip_code', 'position': 5, 'renderTypeName': 'text', 'tableColumnId': 79309971, 'format': {}}, {'id': 561974347, 'name': 'Model Year', 'dataTypeName': 'text', 'description': 'The model year of the vehicle, determined by decoding the Vehicle Identification Number (VIN).', 'fieldName': 'model_year', 'position': 6, 'renderTypeName': 'text', 'tableColumnId': 79309970, 'format': {}}, {'id': 561974348, 'name': 'Make', 'dataTypeName': 'text', 'description': 'The manufacturer of the vehicle, determined by decoding the Vehicle Identification Number (VIN).', 'fieldName': 'make', 'position': 7, 'renderTypeName': 'text', 'tableColumnId': 79309979, 'format': {}}, {'id': 561974349, 'name': 'Model', 'dataTypeName': 'text', 'description': 'The model of the vehicle, determined by decoding the Vehicle Identification Number (VIN).', 'fieldName': 'model', 'position': 8, 'renderTypeName': 'text', 'tableColumnId': 79309978, 'format': {}}, {'id': 561974350, 'name': 'Electric Vehicle Type', 'dataTypeName': 'text', 'description': 'This distinguishes the vehicle as all electric or a plug-in hybrid.', 'fieldName': 'ev_type', 'position': 9, 'renderTypeName': 'text', 'tableColumnId': 79309976, 'format': {'align': 'right'}}, {'id': 561974351, 'name': 'Clean Alternative Fuel Vehicle (CAFV) Eligibility', 'dataTypeName': 'text', 'description': 'This categorizes vehicle as Clean Alternative Fuel Vehicles (CAFVs) based on the fuel requirement and electric-only range requirement in House Bill 2042 as passed in the 2019 legislative session.', 'fieldName': 'cafv_type', 'position': 10, 'renderTypeName': 'text', 'tableColumnId': 79309975, 'format': {'align': 'right'}}, {'id': 561974352, 'name': 'Electric Range', 'dataTypeName': 'number', 'description': 'Describes how far a vehicle can travel purely on its electric charge.', 'fieldName': 'electric_range', 'position': 11, 'renderTypeName': 'number', 'tableColumnId': 79309974, 'format': {'align': 'right'}}, {'id': 561974353, 'name': 'Base MSRP', 'dataTypeName': 'number', 'description': \"This is the lowest Manufacturer's Suggested Retail Price (MSRP) for any trim level of the model in question.\", 'fieldName': 'base_msrp', 'position': 12, 'renderTypeName': 'number', 'tableColumnId': 79310342, 'format': {'align': 'right'}}, {'id': 561974354, 'name': 'Legislative District', 'dataTypeName': 'number', 'description': \"The specific section of Washington State that the vehicle's owner resides in, as represented in the state legislature.\", 'fieldName': 'legislative_district', 'position': 13, 'renderTypeName': 'number', 'tableColumnId': 140620854, 'format': {'align': 'center'}}, {'id': 561974355, 'name': 'DOL Vehicle ID', 'dataTypeName': 'text', 'description': 'Unique number assigned to each vehicle by Department of Licensing for identification purposes.', 'fieldName': 'dol_vehicle_id', 'position': 14, 'renderTypeName': 'text', 'tableColumnId': 82051518, 'format': {}}, {'id': 561974356, 'name': 'Vehicle Location', 'dataTypeName': 'point', 'description': 'The center of the ZIP Code for the registered vehicle.', 'fieldName': 'geocoded_column', 'position': 15, 'renderTypeName': 'point', 'tableColumnId': 87270515, 'format': {}}, {'id': 561974358, 'name': 'Electric Utility', 'dataTypeName': 'text', 'description': 'This is the electric power retail service territories serving the address of the registered vehicle. All ownership types for areas in Washington are included: federal, investor owned, municipal, political subdivision, and cooperative. If the address for the registered vehicle falls into an area with overlapping electric power retail service territories then a single pipe | delimits utilities of same TYPE and a double pipe || delimits utilities of different types. We combined vehicle address and Homeland Infrastructure Foundation Level Database (HIFLD) (https://gii.dhs.gov/HIFLD) Retail_Service_Territories feature layer using a geographic information system to assign values for this field. Blanks occur for vehicles with addresses outside of Washington or for addresses falling into areas in Washington not containing a mapped electric power retail service territory in the source data.', 'fieldName': 'electric_utility', 'position': 17, 'renderTypeName': 'text', 'tableColumnId': 141400529, 'format': {}}, {'id': 561974362, 'name': '2020 Census Tract', 'dataTypeName': 'text', 'description': 'The census tract identifier is a combination of the state, county, and census tract codes as assigned by the United States Census Bureau in the 2020 census, also known as Geographic Identifier (GEOID).   More information can be found here:    https://www.census.gov/programs-surveys/geography/about/glossary.html#par_textimage_13   https://www.census.gov/programs-surveys/geography/guidance/geo-identifiers.html ', 'fieldName': '_2020_census_tract', 'position': 18, 'renderTypeName': 'text', 'tableColumnId': 142655072, 'format': {}}, {'id': 561974360, 'name': 'Counties', 'dataTypeName': 'number', 'description': '', 'fieldName': ':@computed_region_x4ys_rtnd', 'position': 19, 'renderTypeName': 'number', 'tableColumnId': 87270516, 'computationStrategy': {'source_columns': ['geocoded_column'], 'type': 'georegion_match_on_point', 'parameters': {'region': '_x4ys-rtnd', 'primary_key': '_feature_id'}}, 'format': {}}, {'id': 561974361, 'name': 'Congressional Districts', 'dataTypeName': 'number', 'description': '', 'fieldName': ':@computed_region_fny7_vc3j', 'position': 20, 'renderTypeName': 'number', 'tableColumnId': 87270517, 'computationStrategy': {'source_columns': ['geocoded_column'], 'type': 'georegion_match_on_point', 'parameters': {'region': '_fny7-vc3j', 'primary_key': '_feature_id'}}, 'format': {}}, {'id': 561974359, 'name': 'WAOFM - GIS - Legislative District Boundary', 'dataTypeName': 'number', 'description': '', 'fieldName': ':@computed_region_8ddd_yn5v', 'position': 21, 'renderTypeName': 'number', 'tableColumnId': 87270518, 'computationStrategy': {'source_columns': ['geocoded_column'], 'type': 'georegion_match_on_point', 'parameters': {'region': '_8ddd-yn5v', 'primary_key': '_feature_id'}}, 'format': {}}], 'grants': [{'inherited': False, 'type': 'viewer', 'flags': ['public']}], 'metadata': {'custom_fields': {'Temporal': {'Posting Frequency': 'Monthly', 'Period of Time': 'Data includes Battery Electric Vehicles and Plug-in Hybrid Electric Vehicles registered as of November 30, 2022.'}, 'Identification': {'Originator': 'Research and Analysis Office, Department of Licensing', 'Metadata Language': 'English'}, 'Notes': {'1. ': 'A Battery Electric Vehicle (BEV) is an all-electric vehicle using one or more batteries to store the electrical energy that powers the motor and is charged by plugging the vehicle in to an electric power source. A Plug-in Hybrid Electric Vehicle (PHEV) is a vehicle that uses one or more batteries to power an electric motor; uses another fuel, such as gasoline or diesel, to power an internal combustion engine or other propulsion source; and is charged by plugging the vehicle in to an electric power source.', '2. ': 'Clean Alternative Fuel Vehicle (CAFV) Eligibility is based on the fuel requirement and electric-only range requirement as outlined in RCW 82.08.809 and RCW 82.12.809 to be eligible for Alternative Fuel Vehicles retail sales and Washington State use tax exemptions.  Sales or leases of these vehicles must occur on or after 8/1/2019 and meet the purchase price requirements to be eligible for Alternative Fuel Vehicles retail sales and Washington State use tax exemptions.', '3. ': 'Monthly count of vehicles for a county may change from this report and prior reports. Processes were implemented to more accurately assign county at the time of registration.', '4. ': 'Electric Range is no longer maintained for Battery Electric Vehicles (BEV) because new BEVs have an electric range of 30 miles or more. Zero (0) will be entered where the electric range has not been researched.', '5. ': 'Field Electric Utility was added starting with the publication in March 2022.', '6. ': \"Field '2020 Census Tract' was added starting with the publication in June 2022.\"}}, 'rowLabel': 'Vehicle', 'availableDisplayTypes': ['table', 'fatrow', 'page']}, 'owner': {'id': 'eagg-6py7', 'displayName': 'Department of Licensing', 'profileImageUrlLarge': '/api/users/eagg-6py7/profile_images/LARGE', 'profileImageUrlMedium': '/api/users/eagg-6py7/profile_images/THUMB', 'profileImageUrlSmall': '/api/users/eagg-6py7/profile_images/TINY', 'screenName': 'Department of Licensing', 'type': 'interactive', 'flags': ['acceptedEula', 'mayBeStoriesCoOwner']}, 'query': {}, 'rights': ['read'], 'tableAuthor': {'id': 'eagg-6py7', 'displayName': 'Department of Licensing', 'profileImageUrlLarge': '/api/users/eagg-6py7/profile_images/LARGE', 'profileImageUrlMedium': '/api/users/eagg-6py7/profile_images/THUMB', 'profileImageUrlSmall': '/api/users/eagg-6py7/profile_images/TINY', 'screenName': 'Department of Licensing', 'type': 'interactive', 'flags': ['acceptedEula', 'mayBeStoriesCoOwner']}, 'tags': ['tesla', 'leaf', 'nissan', 'model 3', 'dol', 'department of licensing', 'green report', 'ev', 'evs', 'phev', 'phevs', 'bev', 'bevs', 'electric', 'hybrid', 'vehicle', 'plug-in', 'volt', 'bolt', 'chevy', 'chevrolet', 'car', 'environment', 'clean energy', 'population', 'hybrids', 'plug-ins', 'vehicles', 'cars', 'energy', 'nhtsa', 'rao_open_data', 'dol_open_data', 'rao_ev', 'rao_veh'], 'flags': ['default', 'ownerMayBeContacted', 'restorable', 'restorePossibleForType']}}\n"
     ]
    }
   ],
   "source": [
    "api_url1 = \"https://data.wa.gov/api/views/f6w7-q2d2/rows.json?accessType=DOWNLOAD\"\n",
    "r1 = requests.get(api_url1)\n",
    "data = r1.json()\n",
    "#print(response.json())\n",
    "print(response.status_code)\n",
    "#print(response.headers[\"Content-Type\"])\n",
    "#pp(response.json())\n",
    "print(data['meta'])"
   ]
  }
 ],
 "metadata": {
  "kernelspec": {
   "display_name": "Python 3",
   "language": "python",
   "name": "python3"
  },
  "language_info": {
   "codemirror_mode": {
    "name": "ipython",
    "version": 3
   },
   "file_extension": ".py",
   "mimetype": "text/x-python",
   "name": "python",
   "nbconvert_exporter": "python",
   "pygments_lexer": "ipython3",
   "version": "3.11.0 (main, Oct 24 2022, 18:26:48) [MSC v.1933 64 bit (AMD64)]"
  },
  "orig_nbformat": 4,
  "vscode": {
   "interpreter": {
    "hash": "8b70a4ea831fd5b9b770fab33cac3f0a285469b7491720cba6f6d634f19e8405"
   }
  }
 },
 "nbformat": 4,
 "nbformat_minor": 2
}
